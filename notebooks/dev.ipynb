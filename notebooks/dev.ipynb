{
 "cells": [
  {
   "cell_type": "code",
   "execution_count": 1,
   "metadata": {},
   "outputs": [],
   "source": [
    "import numpy as np\n",
    "import cupy as cp\n",
    "import cupyx \n",
    "from LaplacianOp import LaplacianFull, LaplacianSparse"
   ]
  },
  {
   "cell_type": "code",
   "execution_count": 3,
   "metadata": {},
   "outputs": [
    {
     "data": {
      "text/plain": [
       "Up-Laplacian ((780 / 9880)  (2/3)-simplices) \n",
       "n: 40, k: 3, deg: [38. 38.]\n",
       "Pred memory usage cap: 0.000 GB \n",
       "threads-per-block: 32, blocks-per-thread: 310"
      ]
     },
     "execution_count": 3,
     "metadata": {},
     "output_type": "execute_result"
    }
   ],
   "source": [
    "from math import comb\n",
    "n = 40\n",
    "M,N = comb(n,3), comb(n,2)\n",
    "S = np.arange(M)\n",
    "F = np.arange(N)\n",
    "L = LaplacianSparse(S=S, F=F, n=n, k=3, gpu=True)\n",
    "L"
   ]
  },
  {
   "cell_type": "code",
   "execution_count": 14,
   "metadata": {},
   "outputs": [],
   "source": [
    "from primate.trace import hutch\n",
    "from primate.diagonalize import lanczos\n",
    "# from primate.functional import numrank "
   ]
  },
  {
   "cell_type": "code",
   "execution_count": 17,
   "metadata": {},
   "outputs": [
    {
     "data": {
      "text/plain": [
       "dtype('float32')"
      ]
     },
     "execution_count": 17,
     "metadata": {},
     "output_type": "execute_result"
    }
   ],
   "source": [
    "L.dtype"
   ]
  },
  {
   "cell_type": "code",
   "execution_count": 15,
   "metadata": {},
   "outputs": [
    {
     "ename": "ValueError",
     "evalue": "matmul: Input operand 0 does not have enough dimensions (has 0, gufunc core with signature (n?,k),(k,m?)->(n?,m?) requires 1)",
     "output_type": "error",
     "traceback": [
      "\u001b[0;31m---------------------------------------------------------------------------\u001b[0m",
      "\u001b[0;31mValueError\u001b[0m                                Traceback (most recent call last)",
      "Cell \u001b[0;32mIn[15], line 1\u001b[0m\n\u001b[0;32m----> 1\u001b[0m \u001b[43mlanczos\u001b[49m\u001b[43m(\u001b[49m\u001b[43mL\u001b[49m\u001b[43m,\u001b[49m\u001b[43m \u001b[49m\u001b[43mdeg\u001b[49m\u001b[38;5;241;43m=\u001b[39;49m\u001b[38;5;241;43m100\u001b[39;49m\u001b[43m)\u001b[49m\n",
      "File \u001b[0;32m~/miniforge3/envs/laplacian2/lib/python3.12/site-packages/primate/diagonalize.py:76\u001b[0m, in \u001b[0;36mlanczos\u001b[0;34m(A, v0, deg, rtol, orth, sparse_mat, return_basis, seed, dtype)\u001b[0m\n\u001b[1;32m     74\u001b[0m n: \u001b[38;5;28mint\u001b[39m \u001b[38;5;241m=\u001b[39m A\u001b[38;5;241m.\u001b[39mshape[\u001b[38;5;241m0\u001b[39m]\n\u001b[1;32m     75\u001b[0m deg: \u001b[38;5;28mint\u001b[39m \u001b[38;5;241m=\u001b[39m A\u001b[38;5;241m.\u001b[39mshape[\u001b[38;5;241m1\u001b[39m] \u001b[38;5;28;01mif\u001b[39;00m deg \u001b[38;5;129;01mis\u001b[39;00m \u001b[38;5;28;01mNone\u001b[39;00m \u001b[38;5;28;01melse\u001b[39;00m \u001b[38;5;28mmin\u001b[39m(deg, A\u001b[38;5;241m.\u001b[39mshape[\u001b[38;5;241m1\u001b[39m])\n\u001b[0;32m---> 76\u001b[0m dt \u001b[38;5;241m=\u001b[39m dtype \u001b[38;5;28;01mif\u001b[39;00m dtype \u001b[38;5;129;01mis\u001b[39;00m \u001b[38;5;129;01mnot\u001b[39;00m \u001b[38;5;28;01mNone\u001b[39;00m \u001b[38;5;28;01melse\u001b[39;00m (\u001b[43mA\u001b[49m\u001b[43m \u001b[49m\u001b[38;5;241;43m@\u001b[39;49m\u001b[43m \u001b[49m\u001b[43mnp\u001b[49m\u001b[38;5;241;43m.\u001b[39;49m\u001b[43mzeros\u001b[49m\u001b[43m(\u001b[49m\u001b[43mA\u001b[49m\u001b[38;5;241;43m.\u001b[39;49m\u001b[43mshape\u001b[49m\u001b[43m[\u001b[49m\u001b[38;5;241;43m1\u001b[39;49m\u001b[43m]\u001b[49m\u001b[43m)\u001b[49m)\u001b[38;5;241m.\u001b[39mdtype\n\u001b[1;32m     77\u001b[0m \u001b[38;5;28;01massert\u001b[39;00m deg \u001b[38;5;241m>\u001b[39m \u001b[38;5;241m0\u001b[39m, \u001b[38;5;124m\"\u001b[39m\u001b[38;5;124mNumber of steps must be positive!\u001b[39m\u001b[38;5;124m\"\u001b[39m\n\u001b[1;32m     79\u001b[0m \u001b[38;5;66;03m## Get the dtype; infer it if it's not available\u001b[39;00m\n",
      "\u001b[0;31mValueError\u001b[0m: matmul: Input operand 0 does not have enough dimensions (has 0, gufunc core with signature (n?,k),(k,m?)->(n?,m?) requires 1)"
     ]
    }
   ],
   "source": [
    "L\n",
    "\n"
   ]
  },
  {
   "cell_type": "code",
   "execution_count": 9,
   "metadata": {},
   "outputs": [
    {
     "data": {
      "text/plain": [
       "694.9277954101562"
      ]
     },
     "execution_count": 9,
     "metadata": {},
     "output_type": "execute_result"
    }
   ],
   "source": [
    "hutch(L, fun=\"smoothstep\", max_iter=200, deg=8)"
   ]
  },
  {
   "cell_type": "code",
   "execution_count": 16,
   "metadata": {},
   "outputs": [],
   "source": [
    "from math import comb\n",
    "n = 10\n",
    "M,N = comb(n,3), comb(n,2)\n",
    "S = np.arange(M)\n",
    "F = np.arange(N)\n",
    "L = LaplacianSparse(S=S, F=F, n=n, k=3, gpu=True)"
   ]
  },
  {
   "cell_type": "code",
   "execution_count": 17,
   "metadata": {},
   "outputs": [
    {
     "name": "stdout",
     "output_type": "stream",
     "text": [
      "Up-Laplacian ((45 / 120)  (2/3)-simplices) \n",
      "n: 10, k: 3, deg: [8. 8.]\n",
      "Pred memory usage cap: 0.000 GB \n",
      "threads-per-block: 32, blocks-per-thread: 5\n",
      "\n"
     ]
    },
    {
     "ename": "CUDARuntimeError",
     "evalue": "cudaErrorIllegalAddress: an illegal memory access was encountered",
     "output_type": "error",
     "traceback": [
      "\u001b[0;31m---------------------------------------------------------------------------\u001b[0m",
      "\u001b[0;31mCUDARuntimeError\u001b[0m                          Traceback (most recent call last)",
      "Cell \u001b[0;32mIn[17], line 3\u001b[0m\n\u001b[1;32m      1\u001b[0m \u001b[38;5;28mprint\u001b[39m(L)\n\u001b[1;32m      2\u001b[0m x \u001b[38;5;241m=\u001b[39m L\u001b[38;5;241m.\u001b[39mtm\u001b[38;5;241m.\u001b[39marange(L\u001b[38;5;241m.\u001b[39mN, dtype\u001b[38;5;241m=\u001b[39mnp\u001b[38;5;241m.\u001b[39mfloat32)\n\u001b[0;32m----> 3\u001b[0m y \u001b[38;5;241m=\u001b[39m \u001b[43mL\u001b[49m\u001b[38;5;241;43m.\u001b[39;49m\u001b[43mmatvec\u001b[49m\u001b[43m(\u001b[49m\u001b[43mx\u001b[49m\u001b[43m)\u001b[49m\n\u001b[1;32m      4\u001b[0m \u001b[38;5;28mprint\u001b[39m(y)\n",
      "File \u001b[0;32m~/LaplacianOp.py:178\u001b[0m, in \u001b[0;36mLaplacianSparse.matvec\u001b[0;34m(self, x)\u001b[0m\n\u001b[1;32m    176\u001b[0m \u001b[38;5;28mself\u001b[39m\u001b[38;5;241m.\u001b[39mlaunch_config(x, y, \u001b[38;5;28mself\u001b[39m\u001b[38;5;241m.\u001b[39mS, \u001b[38;5;28mself\u001b[39m\u001b[38;5;241m.\u001b[39mF, \u001b[38;5;28mself\u001b[39m\u001b[38;5;241m.\u001b[39mn, \u001b[38;5;28mself\u001b[39m\u001b[38;5;241m.\u001b[39mk, \u001b[38;5;28mself\u001b[39m\u001b[38;5;241m.\u001b[39mBT)\n\u001b[1;32m    177\u001b[0m \u001b[38;5;66;03m# return self.tm.asnumpy(y) if self.gpu else y\u001b[39;00m\n\u001b[0;32m--> 178\u001b[0m \u001b[38;5;28;01mreturn\u001b[39;00m \u001b[43my\u001b[49m\u001b[38;5;241;43m.\u001b[39;49m\u001b[43mget\u001b[49m\u001b[43m(\u001b[49m\u001b[43m)\u001b[49m \u001b[38;5;28;01mif\u001b[39;00m \u001b[38;5;28mself\u001b[39m\u001b[38;5;241m.\u001b[39mgpu \u001b[38;5;28;01melse\u001b[39;00m y\n",
      "File \u001b[0;32mcupy/_core/core.pyx:1767\u001b[0m, in \u001b[0;36mcupy._core.core._ndarray_base.get\u001b[0;34m()\u001b[0m\n",
      "File \u001b[0;32mcupy/_core/core.pyx:1854\u001b[0m, in \u001b[0;36mcupy._core.core._ndarray_base.get\u001b[0;34m()\u001b[0m\n",
      "File \u001b[0;32mcupy/cuda/memory.pyx:586\u001b[0m, in \u001b[0;36mcupy.cuda.memory.MemoryPointer.copy_to_host_async\u001b[0;34m()\u001b[0m\n",
      "File \u001b[0;32mcupy_backends/cuda/api/runtime.pyx:606\u001b[0m, in \u001b[0;36mcupy_backends.cuda.api.runtime.memcpyAsync\u001b[0;34m()\u001b[0m\n",
      "File \u001b[0;32mcupy_backends/cuda/api/runtime.pyx:146\u001b[0m, in \u001b[0;36mcupy_backends.cuda.api.runtime.check_status\u001b[0;34m()\u001b[0m\n",
      "\u001b[0;31mCUDARuntimeError\u001b[0m: cudaErrorIllegalAddress: an illegal memory access was encountered"
     ]
    }
   ],
   "source": [
    "print(L)\n",
    "x = L.tm.arange(L.N, dtype=np.float32)\n",
    "y = L.matvec(x)\n",
    "print(y)"
   ]
  },
  {
   "cell_type": "code",
   "execution_count": null,
   "metadata": {},
   "outputs": [],
   "source": [
    "\n",
    "L.tm.arange(10)\n",
    "# x = L.tm.arange(L.N, dtype=np.float32)\n",
    "# y = L.tm.asarray(L._y)\n",
    "\n",
    "# self.mult(x, self.deg, y)\n",
    "# self.launch_config(x, y, self.S, self.F, self.n, self.k, self.BT, self.deg)\n",
    "#     # return self.tm.asnumpy(y) if self.gpu else y\n",
    "#     return y.get() if self.gpu else y\n",
    "# y = L.matvec(x)"
   ]
  },
  {
   "cell_type": "code",
   "execution_count": null,
   "metadata": {},
   "outputs": [],
   "source": []
  },
  {
   "cell_type": "code",
   "execution_count": null,
   "metadata": {},
   "outputs": [],
   "source": [
    "L = LaplacianFull(n=10, k=3, gpu=True)\n",
    "print(L)\n",
    "x = L.tm.arange(L.N, dtype=np.float32)\n",
    "y = L.matvec(x)\n",
    "print(y)"
   ]
  },
  {
   "cell_type": "code",
   "execution_count": null,
   "metadata": {},
   "outputs": [],
   "source": []
  },
  {
   "cell_type": "code",
   "execution_count": null,
   "metadata": {},
   "outputs": [],
   "source": [
    "x = L.tm.asarray(x)\n",
    "y = L.tm.asarray(L._y)\n",
    "print(x)\n",
    "    # self.mult(x, self.deg, y)\n",
    "    # # cp.cuda.stream.get_current_stream().synchronize()\n",
    "    # self.launch_config(x, y, self.n, self.k, self.M, self.BT, self.deg)\n",
    "    # return self.tm.asnumpy(self._y) if self.gpu else y"
   ]
  },
  {
   "cell_type": "code",
   "execution_count": null,
   "metadata": {},
   "outputs": [],
   "source": [
    "L.mult(x, L.deg, y)"
   ]
  },
  {
   "cell_type": "code",
   "execution_count": null,
   "metadata": {},
   "outputs": [],
   "source": [
    "L.tm.asarray(L._y)"
   ]
  },
  {
   "cell_type": "code",
   "execution_count": null,
   "metadata": {},
   "outputs": [],
   "source": [
    "L.tm.asnumpy(L._y)"
   ]
  },
  {
   "cell_type": "code",
   "execution_count": null,
   "metadata": {},
   "outputs": [],
   "source": [
    "cp.dot(L._y, L._y)"
   ]
  },
  {
   "cell_type": "code",
   "execution_count": null,
   "metadata": {},
   "outputs": [],
   "source": [
    "L._y.device"
   ]
  },
  {
   "cell_type": "code",
   "execution_count": null,
   "metadata": {},
   "outputs": [],
   "source": [
    "x = cp.arange(10)\n",
    "y_pin = cupyx.zeros_pinned(10)"
   ]
  },
  {
   "cell_type": "code",
   "execution_count": null,
   "metadata": {},
   "outputs": [],
   "source": [
    "# y_dev = cp.asarray(y_pin)\n",
    "# cp.multiply(x,x,out=y_pin)\n",
    "# y_pin.multiply(x)\n",
    "type(y_pin)\n",
    "y_pin.device"
   ]
  },
  {
   "cell_type": "code",
   "execution_count": null,
   "metadata": {},
   "outputs": [],
   "source": [
    "print(y_pin)"
   ]
  },
  {
   "cell_type": "code",
   "execution_count": null,
   "metadata": {},
   "outputs": [],
   "source": [
    "from primate.trace import hutch"
   ]
  }
 ],
 "metadata": {
  "kernelspec": {
   "display_name": "laplacian2",
   "language": "python",
   "name": "laplacian2"
  },
  "language_info": {
   "codemirror_mode": {
    "name": "ipython",
    "version": 3
   },
   "file_extension": ".py",
   "mimetype": "text/x-python",
   "name": "python",
   "nbconvert_exporter": "python",
   "pygments_lexer": "ipython3",
   "version": "3.12.3"
  }
 },
 "nbformat": 4,
 "nbformat_minor": 4
}

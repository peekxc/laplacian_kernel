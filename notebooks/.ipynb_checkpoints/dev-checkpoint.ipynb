{
 "cells": [
  {
   "cell_type": "code",
   "execution_count": 1,
   "metadata": {},
   "outputs": [],
   "source": [
    "import numpy as np\n",
    "import cupy as cp\n",
    "import cupyx \n",
    "from comb_laplacian import LaplacianFull, LaplacianSparse"
   ]
  },
  {
   "cell_type": "code",
   "execution_count": 2,
   "metadata": {},
   "outputs": [
    {
     "name": "stderr",
     "output_type": "stream",
     "text": [
      "/home/piekenbrock.m/miniforge3/envs/laplacian2/lib/python3.12/site-packages/numba/cuda/dispatcher.py:536: NumbaPerformanceWarning: Grid size 5 will likely result in GPU under-utilization due to low occupancy.\n",
      "  warn(NumbaPerformanceWarning(msg))\n"
     ]
    },
    {
     "data": {
      "text/plain": [
       "Up-Laplacian (45 / 120) - (2/3)-simplices \n",
       "n: 10, k: 3, Memory usage: 2.4KB \n",
       "threads-per-block: 32, blocks-per-thread: 5"
      ]
     },
     "execution_count": 2,
     "metadata": {},
     "output_type": "execute_result"
    }
   ],
   "source": [
    "from math import comb\n",
    "n = 10\n",
    "M,N = comb(n,3), comb(n,2)\n",
    "S = np.arange(M)\n",
    "F = np.arange(N)\n",
    "L = LaplacianSparse(S=S, F=F, n=n, k=3, gpu=True)\n",
    "L"
   ]
  },
  {
   "cell_type": "code",
   "execution_count": 3,
   "metadata": {},
   "outputs": [
    {
     "data": {
      "text/plain": [
       "array([   8.,   20.,   22.,   32.,   34.,   42.,   40.,   42.,   50.,\n",
       "         68.,   40.,   42.,   50.,   68.,  100.,   28.,   30.,   38.,\n",
       "         56.,   88.,  138.,    0.,    2.,   10.,   28.,   60.,  110.,\n",
       "        182.,  -48.,  -46.,  -38.,  -20.,   12.,   62.,  134.,  232.,\n",
       "       -120., -118., -110.,  -92.,  -60.,  -10.,   62.,  160.,  288.],\n",
       "      dtype=float32)"
      ]
     },
     "execution_count": 3,
     "metadata": {},
     "output_type": "execute_result"
    }
   ],
   "source": [
    "L @ np.arange(N)"
   ]
  },
  {
   "cell_type": "code",
   "execution_count": 6,
   "metadata": {},
   "outputs": [],
   "source": [
    "# x = np.ones(L.N)\n",
    "# L @ np.eye(L.N)\n",
    "LC = L.tocoo()"
   ]
  },
  {
   "cell_type": "code",
   "execution_count": 10,
   "metadata": {},
   "outputs": [
    {
     "data": {
      "text/plain": [
       "9180"
      ]
     },
     "execution_count": 10,
     "metadata": {},
     "output_type": "execute_result"
    }
   ],
   "source": [
    "# LC.row.nbytes + LC.col.nbytes + LC.data.nbytes"
   ]
  },
  {
   "cell_type": "code",
   "execution_count": 12,
   "metadata": {},
   "outputs": [],
   "source": [
    "from primate.trace import hutch\n",
    "from primate.diagonalize import lanczos\n",
    "# from primate.functional import numrank "
   ]
  },
  {
   "cell_type": "code",
   "execution_count": 6,
   "metadata": {},
   "outputs": [
    {
     "data": {
      "text/plain": [
       "dtype('float32')"
      ]
     },
     "execution_count": 6,
     "metadata": {},
     "output_type": "execute_result"
    }
   ],
   "source": [
    "L.dtype"
   ]
  },
  {
   "cell_type": "code",
   "execution_count": 13,
   "metadata": {},
   "outputs": [
    {
     "name": "stdout",
     "output_type": "stream",
     "text": [
      "Girard-Hutchinson estimator (fun=smoothstep, deg=8, quad=golub_welsch)\n",
      "Est: 35.921 +/- 0.57 (95% CI), CV: 1%, Evals: 150 [R]\n"
     ]
    },
    {
     "data": {
      "text/plain": [
       "35.92051696777344"
      ]
     },
     "execution_count": 13,
     "metadata": {},
     "output_type": "execute_result"
    }
   ],
   "source": [
    "hutch(L, fun=\"smoothstep\", a=1e-9, b=1e-5, maxiter=150, deg=8, verbose=True)"
   ]
  },
  {
   "cell_type": "code",
   "execution_count": 14,
   "metadata": {},
   "outputs": [
    {
     "data": {
      "text/plain": [
       "array(36)"
      ]
     },
     "execution_count": 14,
     "metadata": {},
     "output_type": "execute_result"
    }
   ],
   "source": [
    "np.linalg.matrix_rank(L.tocoo().todense())"
   ]
  },
  {
   "cell_type": "code",
   "execution_count": null,
   "metadata": {},
   "outputs": [],
   "source": []
  },
  {
   "cell_type": "code",
   "execution_count": 16,
   "metadata": {},
   "outputs": [],
   "source": [
    "from math import comb\n",
    "n = 10\n",
    "M,N = comb(n,3), comb(n,2)\n",
    "S = np.arange(M)\n",
    "F = np.arange(N)\n",
    "L = LaplacianSparse(S=S, F=F, n=n, k=3, gpu=True)"
   ]
  },
  {
   "cell_type": "code",
   "execution_count": null,
   "metadata": {
    "tags": []
   },
   "outputs": [],
   "source": [
    "print(L)\n",
    "x = L.tm.arange(L.N, dtype=np.float32)\n",
    "y = L.matvec(x)\n",
    "print(y)"
   ]
  },
  {
   "cell_type": "code",
   "execution_count": null,
   "metadata": {},
   "outputs": [],
   "source": [
    "\n",
    "L.tm.arange(10)\n",
    "# x = L.tm.arange(L.N, dtype=np.float32)\n",
    "# y = L.tm.asarray(L._y)\n",
    "\n",
    "# self.mult(x, self.deg, y)\n",
    "# self.launch_config(x, y, self.S, self.F, self.n, self.k, self.BT, self.deg)\n",
    "#     # return self.tm.asnumpy(y) if self.gpu else y\n",
    "#     return y.get() if self.gpu else y\n",
    "# y = L.matvec(x)"
   ]
  },
  {
   "cell_type": "code",
   "execution_count": null,
   "metadata": {},
   "outputs": [],
   "source": []
  },
  {
   "cell_type": "code",
   "execution_count": null,
   "metadata": {},
   "outputs": [],
   "source": [
    "L = LaplacianFull(n=10, k=3, gpu=True)\n",
    "print(L)\n",
    "x = L.tm.arange(L.N, dtype=np.float32)\n",
    "y = L.matvec(x)\n",
    "print(y)"
   ]
  },
  {
   "cell_type": "code",
   "execution_count": null,
   "metadata": {},
   "outputs": [],
   "source": []
  },
  {
   "cell_type": "code",
   "execution_count": null,
   "metadata": {},
   "outputs": [],
   "source": [
    "x = L.tm.asarray(x)\n",
    "y = L.tm.asarray(L._y)\n",
    "print(x)\n",
    "    # self.mult(x, self.deg, y)\n",
    "    # # cp.cuda.stream.get_current_stream().synchronize()\n",
    "    # self.launch_config(x, y, self.n, self.k, self.M, self.BT, self.deg)\n",
    "    # return self.tm.asnumpy(self._y) if self.gpu else y"
   ]
  },
  {
   "cell_type": "code",
   "execution_count": null,
   "metadata": {},
   "outputs": [],
   "source": [
    "L.mult(x, L.deg, y)"
   ]
  },
  {
   "cell_type": "code",
   "execution_count": null,
   "metadata": {},
   "outputs": [],
   "source": [
    "L.tm.asarray(L._y)"
   ]
  },
  {
   "cell_type": "code",
   "execution_count": null,
   "metadata": {},
   "outputs": [],
   "source": [
    "L.tm.asnumpy(L._y)"
   ]
  },
  {
   "cell_type": "code",
   "execution_count": null,
   "metadata": {},
   "outputs": [],
   "source": [
    "cp.dot(L._y, L._y)"
   ]
  },
  {
   "cell_type": "code",
   "execution_count": null,
   "metadata": {},
   "outputs": [],
   "source": [
    "L._y.device"
   ]
  },
  {
   "cell_type": "code",
   "execution_count": null,
   "metadata": {},
   "outputs": [],
   "source": [
    "x = cp.arange(10)\n",
    "y_pin = cupyx.zeros_pinned(10)"
   ]
  },
  {
   "cell_type": "code",
   "execution_count": null,
   "metadata": {},
   "outputs": [],
   "source": [
    "# y_dev = cp.asarray(y_pin)\n",
    "# cp.multiply(x,x,out=y_pin)\n",
    "# y_pin.multiply(x)\n",
    "type(y_pin)\n",
    "y_pin.device"
   ]
  },
  {
   "cell_type": "code",
   "execution_count": null,
   "metadata": {},
   "outputs": [],
   "source": [
    "print(y_pin)"
   ]
  },
  {
   "cell_type": "code",
   "execution_count": null,
   "metadata": {},
   "outputs": [],
   "source": [
    "from primate.trace import hutch"
   ]
  }
 ],
 "metadata": {
  "kernelspec": {
   "display_name": "laplacian2",
   "language": "python",
   "name": "laplacian2"
  },
  "language_info": {
   "codemirror_mode": {
    "name": "ipython",
    "version": 3
   },
   "file_extension": ".py",
   "mimetype": "text/x-python",
   "name": "python",
   "nbconvert_exporter": "python",
   "pygments_lexer": "ipython3",
   "version": "3.12.3"
  }
 },
 "nbformat": 4,
 "nbformat_minor": 4
}

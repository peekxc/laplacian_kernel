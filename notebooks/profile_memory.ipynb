{
 "cells": [
  {
   "cell_type": "code",
   "execution_count": 5,
   "id": "46b8869f-24cb-470d-9cc7-a752de63d1ee",
   "metadata": {},
   "outputs": [],
   "source": [
    "import numpy as np\n",
    "import primate"
   ]
  },
  {
   "cell_type": "code",
   "execution_count": 7,
   "id": "8561966c-cafb-4c8a-8b40-d9ce3b6fb32f",
   "metadata": {},
   "outputs": [],
   "source": [
    "import cupyx \n",
    "import cupy as cp"
   ]
  },
  {
   "cell_type": "code",
   "execution_count": 38,
   "id": "b252cda5-f0b1-4307-86a4-7c83ca866fde",
   "metadata": {},
   "outputs": [],
   "source": [
    "N = int(1e7)\n",
    "x_pin = cupyx.zeros_pinned(N, dtype=np.int64)\n",
    "x_dev = cp.zeros(N, dtype=np.int64)"
   ]
  },
  {
   "cell_type": "code",
   "execution_count": 42,
   "id": "3111f2ff-fc09-4fb6-8676-a846344e0b77",
   "metadata": {},
   "outputs": [],
   "source": [
    "from cupyx.profiler import benchmark\n",
    "def get_dev():\n",
    "    # return x_dev.get()\n",
    "    return cp.asnumpy(x_dev)\n",
    "def get_pin():\n",
    "    return cp.asnumpy(x_pin)"
   ]
  },
  {
   "cell_type": "code",
   "execution_count": 43,
   "id": "08d64503-14ce-4260-a04b-43071effdca2",
   "metadata": {},
   "outputs": [
    {
     "name": "stdout",
     "output_type": "stream",
     "text": [
      "get_dev             :    CPU: 98305.967 us   +/- 2009.629 (min: 93433.388 / max: 112549.486) us     GPU-0: 98336.877 us   +/- 2012.635 (min: 93457.603 / max: 112587.837) us\n"
     ]
    }
   ],
   "source": [
    "print(benchmark(get_dev, n_repeat=200)) "
   ]
  },
  {
   "cell_type": "code",
   "execution_count": 44,
   "id": "c7d01892-8809-46ac-b17c-c2608d5b7840",
   "metadata": {},
   "outputs": [
    {
     "name": "stdout",
     "output_type": "stream",
     "text": [
      "get_pin             :    CPU:     0.694 us   +/-  1.599 (min:     0.505 / max:    23.233) us     GPU-0:     3.304 us   +/-  1.691 (min:     2.752 / max:    26.880) us\n"
     ]
    }
   ],
   "source": [
    "print(benchmark(get_pin, n_repeat=200)) "
   ]
  },
  {
   "cell_type": "code",
   "execution_count": 32,
   "id": "8de32c79-ba66-4da3-9d6e-6603536a0a07",
   "metadata": {},
   "outputs": [
    {
     "name": "stdout",
     "output_type": "stream",
     "text": [
      "[0 0 0 ... 0 0 0]\n"
     ]
    }
   ],
   "source": [
    "print(cp.asnumpy(x_pin))"
   ]
  },
  {
   "cell_type": "code",
   "execution_count": 46,
   "id": "320b9d60-15a2-48e5-be3c-b26ba5a4717f",
   "metadata": {},
   "outputs": [
    {
     "data": {
      "text/plain": [
       "array([0, 0, 0, ..., 0, 0, 0])"
      ]
     },
     "execution_count": 46,
     "metadata": {},
     "output_type": "execute_result"
    }
   ],
   "source": [
    "x_dev"
   ]
  },
  {
   "cell_type": "code",
   "execution_count": 25,
   "id": "645587c7-73c7-4a0f-b609-4c59b82415bb",
   "metadata": {},
   "outputs": [
    {
     "name": "stdout",
     "output_type": "stream",
     "text": [
      "[0 0 0 ... 0 0 0]\n"
     ]
    }
   ],
   "source": [
    "x_cpu = x_dev.get()\n",
    "print(x_cpu)"
   ]
  }
 ],
 "metadata": {
  "kernelspec": {
   "display_name": "laplacian2",
   "language": "python",
   "name": "laplacian2"
  },
  "language_info": {
   "codemirror_mode": {
    "name": "ipython",
    "version": 3
   },
   "file_extension": ".py",
   "mimetype": "text/x-python",
   "name": "python",
   "nbconvert_exporter": "python",
   "pygments_lexer": "ipython3",
   "version": "3.12.3"
  }
 },
 "nbformat": 4,
 "nbformat_minor": 5
}

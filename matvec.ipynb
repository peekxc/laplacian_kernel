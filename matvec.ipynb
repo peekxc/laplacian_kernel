{
 "cells": [
  {
   "cell_type": "code",
   "execution_count": 2,
   "id": "1b153b00-84e4-4327-9d2b-436b5616a281",
   "metadata": {},
   "outputs": [],
   "source": [
    "import torch as torch\n",
    "import numpy as np\n",
    "from scipy.sparse import load_npz\n",
    "import timeit"
   ]
  },
  {
   "cell_type": "code",
   "execution_count": 3,
   "id": "84bfffd4-d4ef-444e-a56e-f958af233482",
   "metadata": {},
   "outputs": [
    {
     "name": "stdout",
     "output_type": "stream",
     "text": [
      "cuda\n"
     ]
    }
   ],
   "source": [
    "device = torch.device(\"cuda\")\n",
    "print(device)"
   ]
  },
  {
   "cell_type": "code",
   "execution_count": 33,
   "id": "dba77f69-4d4a-4db6-8a25-ffa0962ccced",
   "metadata": {},
   "outputs": [],
   "source": [
    "torch.cuda.init()"
   ]
  },
  {
   "cell_type": "code",
   "execution_count": 4,
   "id": "22489f90-6cd2-44e4-8066-eb8fb64b2e5c",
   "metadata": {},
   "outputs": [],
   "source": [
    "D2 = load_npz(\"laplacian_D2_500_sw1pers.npz\")"
   ]
  },
  {
   "cell_type": "code",
   "execution_count": 5,
   "id": "2c540a78-5dda-457e-a922-d2ed7d592355",
   "metadata": {},
   "outputs": [],
   "source": [
    "x = np.random.uniform(size=D2.shape[1])"
   ]
  },
  {
   "cell_type": "code",
   "execution_count": 6,
   "id": "25e4de34-f859-413d-bf70-d2b01f2f7c0f",
   "metadata": {},
   "outputs": [
    {
     "data": {
      "text/plain": [
       "5.914250231347978"
      ]
     },
     "execution_count": 6,
     "metadata": {},
     "output_type": "execute_result"
    }
   ],
   "source": [
    "timeit.timeit(lambda: D2 @ x, number=50)\n",
    "# 5.859196637058631 = cloud cpu \n",
    "# 6.5684758230054285 = host cpu "
   ]
  },
  {
   "cell_type": "code",
   "execution_count": 7,
   "id": "d3e88908-33b6-4c7a-b59a-59ddd78226bc",
   "metadata": {},
   "outputs": [],
   "source": [
    "values = D2.data\n",
    "indices = np.vstack((D2.row, D2.col))\n",
    "i = torch.LongTensor(indices)\n",
    "v = torch.FloatTensor(values)\n",
    "shape = D2.shape\n",
    "D2_torch = torch.sparse_coo_tensor(i, v, torch.Size(shape), device=device)"
   ]
  },
  {
   "cell_type": "code",
   "execution_count": 8,
   "id": "f6951e6b-9a86-4f06-bd51-5ced46d9f8de",
   "metadata": {},
   "outputs": [
    {
     "data": {
      "text/plain": [
       "torch.Size([109162, 11671655])"
      ]
     },
     "execution_count": 8,
     "metadata": {},
     "output_type": "execute_result"
    }
   ],
   "source": [
    "D2_torch.shape"
   ]
  },
  {
   "cell_type": "code",
   "execution_count": 28,
   "id": "3760c09e-f8f4-4f4a-82b2-267337ad2bf9",
   "metadata": {},
   "outputs": [],
   "source": [
    "x_torch = torch.Tensor(x).to(device)"
   ]
  },
  {
   "cell_type": "code",
   "execution_count": 10,
   "id": "b6f60cb7-45b8-4c4c-8940-76af72cf68a3",
   "metadata": {},
   "outputs": [
    {
     "data": {
      "text/plain": [
       "tensor([0.9396, 0.9803, 0.2860,  ..., 0.3379, 0.9277, 0.5340], device='cuda:0')"
      ]
     },
     "execution_count": 10,
     "metadata": {},
     "output_type": "execute_result"
    }
   ],
   "source": [
    "x_torch"
   ]
  },
  {
   "cell_type": "code",
   "execution_count": 11,
   "id": "592aec02-66fa-4bdb-b46e-baf271af255c",
   "metadata": {},
   "outputs": [
    {
     "data": {
      "text/plain": [
       "tensor([237.8831, 222.3144, 218.6985,  ..., 232.4774, 219.7620, 217.2185],\n",
       "       device='cuda:0')"
      ]
     },
     "execution_count": 11,
     "metadata": {},
     "output_type": "execute_result"
    }
   ],
   "source": [
    "D2_torch @ x_torch"
   ]
  },
  {
   "cell_type": "code",
   "execution_count": 12,
   "id": "855775cb-46d5-4192-9709-0a0a6dc993d4",
   "metadata": {},
   "outputs": [
    {
     "data": {
      "text/plain": [
       "151.07625597715378"
      ]
     },
     "execution_count": 12,
     "metadata": {},
     "output_type": "execute_result"
    }
   ],
   "source": [
    "timeit.timeit(lambda: D2_torch @ x_torch, number=5000)"
   ]
  },
  {
   "cell_type": "code",
   "execution_count": 13,
   "id": "c8fc7381-7a32-43f6-ac8d-a15e524068a9",
   "metadata": {},
   "outputs": [],
   "source": [
    "D2_torch_coa = D2_torch.coalesce()"
   ]
  },
  {
   "cell_type": "code",
   "execution_count": 14,
   "id": "94bb660f-0527-4bbb-9658-c1c4595249dc",
   "metadata": {},
   "outputs": [
    {
     "data": {
      "text/plain": [
       "4.34778428543359"
      ]
     },
     "execution_count": 14,
     "metadata": {},
     "output_type": "execute_result"
    }
   ],
   "source": [
    "timeit.timeit(lambda: D2_torch_coa @ x_torch, number=5000)"
   ]
  },
  {
   "cell_type": "code",
   "execution_count": 29,
   "id": "68205a33-8295-478d-9350-f2d9c08711df",
   "metadata": {},
   "outputs": [],
   "source": [
    "D2_torch_csc = D2_torch_coa.to_sparse_csc()"
   ]
  },
  {
   "cell_type": "code",
   "execution_count": 16,
   "id": "860e5ecc-9e97-4cb5-8f79-1fee438d8e2c",
   "metadata": {},
   "outputs": [
    {
     "data": {
      "text/plain": [
       "81.52595884166658"
      ]
     },
     "execution_count": 16,
     "metadata": {},
     "output_type": "execute_result"
    }
   ],
   "source": [
    "timeit.timeit(lambda: D2_torch_csc @ x_torch, number=5000)"
   ]
  },
  {
   "cell_type": "code",
   "execution_count": 30,
   "id": "4d4ddd79-c82f-47e2-a2a9-8cba7d049bc4",
   "metadata": {},
   "outputs": [],
   "source": [
    "D2_torch_csr = D2_torch_coa.to_sparse_csr()"
   ]
  },
  {
   "cell_type": "code",
   "execution_count": 31,
   "id": "2b213fc3-3ce3-4cc9-8188-6c8f0a65e332",
   "metadata": {},
   "outputs": [
    {
     "data": {
      "text/plain": [
       "1.8002560082823038"
      ]
     },
     "execution_count": 31,
     "metadata": {},
     "output_type": "execute_result"
    }
   ],
   "source": [
    "timeit.timeit(lambda: D2_torch_csr @ x_torch, number=5000)"
   ]
  },
  {
   "cell_type": "code",
   "execution_count": 32,
   "id": "48c40da3-b2ba-4e83-8c8c-1b25cb630267",
   "metadata": {},
   "outputs": [
    {
     "data": {
      "text/plain": [
       "1.9885549005120993"
      ]
     },
     "execution_count": 32,
     "metadata": {},
     "output_type": "execute_result"
    }
   ],
   "source": [
    "timeit.timeit(lambda: D2_torch_csr.mv(x_torch), number=5000)"
   ]
  },
  {
   "cell_type": "code",
   "execution_count": 35,
   "id": "944691cb-dad5-451a-bfb1-aa166365b8c0",
   "metadata": {},
   "outputs": [],
   "source": [
    "D2_torch_csr_T = D2_torch_coa.T.to_sparse_csr()"
   ]
  },
  {
   "cell_type": "code",
   "execution_count": 36,
   "id": "da06b47f-8eee-4980-9057-d550d7d57d30",
   "metadata": {},
   "outputs": [
    {
     "data": {
      "text/plain": [
       "tensor(crow_indices=tensor([       0,        3,        6,  ..., 35014959,\n",
       "                            35014962, 35014965]),\n",
       "       col_indices=tensor([     0,      1,    448,  ..., 109159, 109160,\n",
       "                           109161]),\n",
       "       values=tensor([ 1., -1.,  1.,  ...,  1., -1.,  1.]), device='cuda:0',\n",
       "       size=(11671655, 109162), nnz=35014965, layout=torch.sparse_csr)"
      ]
     },
     "execution_count": 36,
     "metadata": {},
     "output_type": "execute_result"
    }
   ],
   "source": [
    "D2_torch_csr_T"
   ]
  },
  {
   "cell_type": "code",
   "execution_count": 37,
   "id": "608ce554-dd47-4a62-8ef7-b045fa1d4c3f",
   "metadata": {},
   "outputs": [],
   "source": [
    "x_torch = x_torch.reshape((len(x_torch),1))"
   ]
  },
  {
   "cell_type": "code",
   "execution_count": 39,
   "id": "6ed63586-61bd-4716-b0ea-92cfd5b265a5",
   "metadata": {},
   "outputs": [
    {
     "data": {
      "text/plain": [
       "tensor([[0.9396, 0.9803, 0.2860,  ..., 0.3379, 0.9277, 0.5340]],\n",
       "       device='cuda:0')"
      ]
     },
     "execution_count": 39,
     "metadata": {},
     "output_type": "execute_result"
    }
   ],
   "source": [
    "x_torch_T = x_torch.T\n",
    "x_torch_T"
   ]
  },
  {
   "cell_type": "code",
   "execution_count": 40,
   "id": "7b9267b0-c28e-4502-b54f-47eb16bd0c7c",
   "metadata": {},
   "outputs": [
    {
     "data": {
      "text/plain": [
       "tensor([[237.8831, 222.3144, 218.6985,  ..., 232.4774, 219.7620, 217.2185]],\n",
       "       device='cuda:0')"
      ]
     },
     "execution_count": 40,
     "metadata": {},
     "output_type": "execute_result"
    }
   ],
   "source": [
    "x_torch_T.mm(D2_torch_csr_T)"
   ]
  },
  {
   "cell_type": "code",
   "execution_count": 41,
   "id": "f3ebd443-6ec1-4fb0-aeb0-8e6e43c4b705",
   "metadata": {},
   "outputs": [
    {
     "data": {
      "text/plain": [
       "81.25843229424208"
      ]
     },
     "execution_count": 41,
     "metadata": {},
     "output_type": "execute_result"
    }
   ],
   "source": [
    "timeit.timeit(lambda: x_torch_T.mm(D2_torch_csr_T), number=5000)"
   ]
  },
  {
   "cell_type": "code",
   "execution_count": 20,
   "id": "9969df63-c9d5-478f-b54c-010c69c06ce2",
   "metadata": {},
   "outputs": [],
   "source": []
  },
  {
   "cell_type": "code",
   "execution_count": 22,
   "id": "605c2d39-c354-4002-8e9b-7342001e3271",
   "metadata": {},
   "outputs": [
    {
     "data": {
      "text/plain": [
       "tensor([[237.8831],\n",
       "        [222.3144],\n",
       "        [218.6985],\n",
       "        ...,\n",
       "        [232.4774],\n",
       "        [219.7620],\n",
       "        [217.2185]], device='cuda:0')"
      ]
     },
     "execution_count": 22,
     "metadata": {},
     "output_type": "execute_result"
    }
   ],
   "source": [
    "D2_torch_csr.mm(x_torch)"
   ]
  },
  {
   "cell_type": "code",
   "execution_count": 61,
   "id": "77914958-f0ff-4ab2-ba9d-583248cf05e4",
   "metadata": {},
   "outputs": [
    {
     "data": {
      "text/plain": [
       "24.960342657985166"
      ]
     },
     "execution_count": 61,
     "metadata": {},
     "output_type": "execute_result"
    }
   ],
   "source": [
    "timeit.timeit(lambda: D2_torch_coa_csr.mm(torch.rand((D2_torch.shape[1],1), device=device)), number=50000)"
   ]
  },
  {
   "cell_type": "code",
   "execution_count": 23,
   "id": "b711b0d1-c25e-45ac-b6ab-b063656766d0",
   "metadata": {},
   "outputs": [
    {
     "data": {
      "text/plain": [
       "tensor([[237.8831],\n",
       "        [222.3144],\n",
       "        [218.6985],\n",
       "        ...,\n",
       "        [232.4774],\n",
       "        [219.7620],\n",
       "        [217.2185]], device='cuda:0')"
      ]
     },
     "execution_count": 23,
     "metadata": {},
     "output_type": "execute_result"
    }
   ],
   "source": [
    "D2_torch_csr @ x_torch"
   ]
  }
 ],
 "metadata": {
  "kernelspec": {
   "display_name": "laplacian2",
   "language": "python",
   "name": "laplacian2"
  },
  "language_info": {
   "codemirror_mode": {
    "name": "ipython",
    "version": 3
   },
   "file_extension": ".py",
   "mimetype": "text/x-python",
   "name": "python",
   "nbconvert_exporter": "python",
   "pygments_lexer": "ipython3",
   "version": "3.12.3"
  }
 },
 "nbformat": 4,
 "nbformat_minor": 5
}
